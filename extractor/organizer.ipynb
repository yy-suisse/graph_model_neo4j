{
 "cells": [
  {
   "cell_type": "code",
   "execution_count": 2,
   "metadata": {},
   "outputs": [],
   "source": [
    "import pandas as pd\n",
    "import numpy as np\n",
    "import extractor_parameter\n",
    "import json\n",
    "\n",
    "\n",
    "path = f\"C:/Users/yy/Desktop/synthea/output/csv/\"\n"
   ]
  },
  {
   "cell_type": "markdown",
   "metadata": {},
   "source": [
    "# READ ENCOUNTER "
   ]
  },
  {
   "cell_type": "code",
   "execution_count": 3,
   "metadata": {},
   "outputs": [],
   "source": [
    "encounter_df = pd.read_csv(path+'encounters.csv')\n",
    "encounter_df = encounter_df[extractor_parameter.files_colomn['encounter.csv']]"
   ]
  },
  {
   "cell_type": "code",
   "execution_count": 4,
   "metadata": {},
   "outputs": [],
   "source": [
    "list_of_patients =  encounter_df['PATIENT'].unique()\n"
   ]
  },
  {
   "cell_type": "markdown",
   "metadata": {},
   "source": [
    "# stat for encounter "
   ]
  },
  {
   "cell_type": "code",
   "execution_count": 33,
   "metadata": {},
   "outputs": [
    {
     "name": "stdout",
     "output_type": "stream",
     "text": [
      "total number of encounters:  187932\n",
      "total number of patients:  2303\n",
      "average number of encounters per patient  81.60312635692576\n"
     ]
    },
    {
     "ename": "KeyboardInterrupt",
     "evalue": "",
     "output_type": "error",
     "traceback": [
      "\u001b[1;31m---------------------------------------------------------------------------\u001b[0m",
      "\u001b[1;31mKeyboardInterrupt\u001b[0m                         Traceback (most recent call last)",
      "Cell \u001b[1;32mIn[33], line 10\u001b[0m\n\u001b[0;32m      6\u001b[0m count_num_encounter_per_patient \u001b[39m=\u001b[39m np\u001b[39m.\u001b[39mzeros((num_patients, \u001b[39m1\u001b[39m), dtype\u001b[39m=\u001b[39m\u001b[39mint\u001b[39m)\n\u001b[0;32m      9\u001b[0m \u001b[39mfor\u001b[39;00m i, patient \u001b[39min\u001b[39;00m \u001b[39menumerate\u001b[39m(list_of_patients):\n\u001b[1;32m---> 10\u001b[0m     num_encounters \u001b[39m=\u001b[39m encounter_df[encounter_df[\u001b[39m'\u001b[39;49m\u001b[39mPATIENT\u001b[39;49m\u001b[39m'\u001b[39;49m] \u001b[39m==\u001b[39;49m patient]\u001b[39m.\u001b[39mshape[\u001b[39m0\u001b[39m]\n\u001b[0;32m     11\u001b[0m     count_num_encounter_per_patient[i][\u001b[39m0\u001b[39m] \u001b[39m=\u001b[39m num_encounters\n",
      "File \u001b[1;32mc:\\Users\\yy\\AppData\\Local\\Programs\\Python\\Python311\\Lib\\site-packages\\pandas\\core\\frame.py:3796\u001b[0m, in \u001b[0;36mDataFrame.__getitem__\u001b[1;34m(self, key)\u001b[0m\n\u001b[0;32m   3794\u001b[0m \u001b[39m# Do we have a (boolean) 1d indexer?\u001b[39;00m\n\u001b[0;32m   3795\u001b[0m \u001b[39mif\u001b[39;00m com\u001b[39m.\u001b[39mis_bool_indexer(key):\n\u001b[1;32m-> 3796\u001b[0m     \u001b[39mreturn\u001b[39;00m \u001b[39mself\u001b[39;49m\u001b[39m.\u001b[39;49m_getitem_bool_array(key)\n\u001b[0;32m   3798\u001b[0m \u001b[39m# We are left with two options: a single key, and a collection of keys,\u001b[39;00m\n\u001b[0;32m   3799\u001b[0m \u001b[39m# We interpret tuples as collections only for non-MultiIndex\u001b[39;00m\n\u001b[0;32m   3800\u001b[0m is_single_key \u001b[39m=\u001b[39m \u001b[39misinstance\u001b[39m(key, \u001b[39mtuple\u001b[39m) \u001b[39mor\u001b[39;00m \u001b[39mnot\u001b[39;00m is_list_like(key)\n",
      "File \u001b[1;32mc:\\Users\\yy\\AppData\\Local\\Programs\\Python\\Python311\\Lib\\site-packages\\pandas\\core\\frame.py:3850\u001b[0m, in \u001b[0;36mDataFrame._getitem_bool_array\u001b[1;34m(self, key)\u001b[0m\n\u001b[0;32m   3847\u001b[0m \u001b[39m# check_bool_indexer will throw exception if Series key cannot\u001b[39;00m\n\u001b[0;32m   3848\u001b[0m \u001b[39m# be reindexed to match DataFrame rows\u001b[39;00m\n\u001b[0;32m   3849\u001b[0m key \u001b[39m=\u001b[39m check_bool_indexer(\u001b[39mself\u001b[39m\u001b[39m.\u001b[39mindex, key)\n\u001b[1;32m-> 3850\u001b[0m indexer \u001b[39m=\u001b[39m key\u001b[39m.\u001b[39;49mnonzero()[\u001b[39m0\u001b[39m]\n\u001b[0;32m   3851\u001b[0m \u001b[39mreturn\u001b[39;00m \u001b[39mself\u001b[39m\u001b[39m.\u001b[39m_take_with_is_copy(indexer, axis\u001b[39m=\u001b[39m\u001b[39m0\u001b[39m)\n",
      "\u001b[1;31mKeyboardInterrupt\u001b[0m: "
     ]
    }
   ],
   "source": [
    "print(\"total number of encounters: \", encounter_df['ENCOUNTER'].nunique())\n",
    "print(\"total number of patients: \", encounter_df['PATIENT'].nunique())\n",
    "print(\"average number of encounters per patient \", encounter_df['ENCOUNTER'].nunique()/encounter_df['PATIENT'].nunique())\n",
    "\n",
    "num_patients = encounter_df['PATIENT'].nunique()\n",
    "count_num_encounter_per_patient = np.zeros((num_patients, 1), dtype=int)\n",
    "\n",
    "\n",
    "for i, patient in enumerate(list_of_patients):\n",
    "    num_encounters = encounter_df[encounter_df['PATIENT'] == patient].shape[0]\n",
    "    count_num_encounter_per_patient[i][0] = num_encounters\n",
    "\n"
   ]
  },
  {
   "cell_type": "code",
   "execution_count": 34,
   "metadata": {},
   "outputs": [
    {
     "name": "stdout",
     "output_type": "stream",
     "text": [
      "979\n",
      "0\n",
      "0.0\n"
     ]
    }
   ],
   "source": [
    "print(count_num_encounter_per_patient.max())\n",
    "print(count_num_encounter_per_patient.min())\n",
    "print(np.median(count_num_encounter_per_patient))\n",
    "\n"
   ]
  },
  {
   "cell_type": "markdown",
   "metadata": {},
   "source": [
    "# basic stats and read"
   ]
  },
  {
   "cell_type": "code",
   "execution_count": 5,
   "metadata": {},
   "outputs": [],
   "source": [
    "# stats of claim\n",
    "claim_df = pd.read_csv(path+'claims.csv')\n",
    "claim_df = claim_df[extractor_parameter.files_colomn['claims.csv']]\n",
    "claim_df.DIAGNOSIS1.value_counts()\n",
    "\n",
    "# stats of conditions\n",
    "condition_df = pd.read_csv(path+'conditions.csv')\n",
    "condition_df = condition_df[extractor_parameter.files_colomn['conditions.csv']]\n",
    "condition_df.DESCRIPTION.value_counts()\n",
    "\n",
    "# stats of careplan\n",
    "careplan_df = pd.read_csv(path+'careplans.csv')\n",
    "careplan_df = careplan_df[extractor_parameter.files_colomn['careplans.csv']]\n",
    "careplan_df.DESCRIPTION.value_counts()\n",
    "\n",
    "# stats of patient\n",
    "patient_df = pd.read_csv(path+'patients.csv')\n",
    "patient_df = patient_df[extractor_parameter.files_colomn['patients.csv']]\n",
    "\n",
    "# read observation\n",
    "observation_df = pd.read_csv(path+'observations.csv')\n",
    "observation_df = observation_df[extractor_parameter.files_colomn['observations.csv']]\n",
    "\n",
    "# read procedure\n",
    "procedure_df = pd.read_csv(path+'procedures.csv')\n",
    "procedure_df = procedure_df[extractor_parameter.files_colomn['procedures.csv']]\n",
    "\n",
    "# read allergies\n",
    "allergy_df = pd.read_csv(path+'allergies.csv')\n",
    "allergy_df = allergy_df[extractor_parameter.files_colomn['allergies.csv']]\n",
    "\n",
    "# read images studies\n",
    "imaging_studies_df = pd.read_csv(path+'imaging_studies.csv')\n",
    "imaging_studies_df = imaging_studies_df[extractor_parameter.files_colomn['imaging_studies.csv']]\n",
    "\n",
    "# read devices\n",
    "device_df = pd.read_csv(path+'devices.csv')\n",
    "device_df = device_df[extractor_parameter.files_colomn['devices.csv']]\n",
    "\n",
    "# read supplies\n",
    "supplies_df = pd.read_csv(path+'supplies.csv')\n",
    "supplies_df = supplies_df[extractor_parameter.files_colomn['supplies.csv']]\n",
    "\n",
    "# read immu\n",
    "immunizations_df = pd.read_csv(path+'immunizations.csv')\n",
    "immunizations_df = immunizations_df[extractor_parameter.files_colomn['immunizations.csv']]\n",
    "\n",
    "# read medication\n",
    "medication_df = pd.read_csv(path+'medications.csv')\n",
    "medication_df = medication_df[extractor_parameter.files_colomn['supplies.csv']]\n",
    "\n"
   ]
  },
  {
   "cell_type": "markdown",
   "metadata": {},
   "source": [
    "# Build json per patient"
   ]
  },
  {
   "cell_type": "code",
   "execution_count": 10,
   "metadata": {},
   "outputs": [
    {
     "name": "stdout",
     "output_type": "stream",
     "text": [
      "111349\n",
      "77663\n"
     ]
    }
   ],
   "source": [
    "print(len(condition_df))\n",
    "print(condition_df.ENCOUNTER.nunique())"
   ]
  },
  {
   "cell_type": "code",
   "execution_count": 12,
   "metadata": {},
   "outputs": [
    {
     "data": {
      "text/plain": [
       "['aef6dfbb-3656-6b2b-95c3-10b4a52395aa',\n",
       " '975b834d-aa65-f1cf-9874-6c981b126207',\n",
       " 'f82670dd-c188-5092-fccb-688037e2912f',\n",
       " 'fb0c1418-12df-ca32-6324-0e2eb964ecbe',\n",
       " 'cd66729b-0eab-e91f-b163-b7be7d54092d',\n",
       " '87ac28b0-2a00-28b5-1d8f-1066946b2853',\n",
       " 'b57e2afd-c21d-1c25-67f5-c8c0afdb0035',\n",
       " 'd1e9ac04-23f0-5346-6d97-c85014d93a58',\n",
       " '8a146664-599d-b7ce-f4a2-061381ee1389',\n",
       " 'f4022dc5-dc89-a77f-6503-539ae681b822',\n",
       " '04fb7d2a-d593-c3f9-5ea0-5aef9ad1480c',\n",
       " 'a5cf0d3a-72fc-5e0b-48b0-ff2da9821abd',\n",
       " '02a18568-fa5f-1317-2955-b132d8913503',\n",
       " 'f73b25e6-12a5-0918-c769-d6c674c7c694',\n",
       " '72a23e81-118d-b1ef-42cd-9b9126956752',\n",
       " 'd174e515-622b-adf3-9bb9-2afeeb6d8c18',\n",
       " '8a85bec8-cd20-7560-d9a3-e5d62683a83b',\n",
       " '214b5143-8952-c717-8195-2805e9e74bd0',\n",
       " '4140d4cf-a265-70d5-45fa-a287ffb06681',\n",
       " 'acc70b63-d4b0-ac16-b139-5059c6b2fd68',\n",
       " '80474ee4-2581-bc37-ca1e-4a29b146eaad',\n",
       " 'cb7e439f-9892-9b35-7ed7-184c312bf3b6',\n",
       " 'ccb68dca-10de-4391-725f-34c25d13c82f',\n",
       " '20c0b6b8-de9d-5ac0-3b94-d8b51f79617e',\n",
       " '03cb0d54-19e6-0e06-364d-00f870377126',\n",
       " '97f0ad82-d919-5697-d3f9-f598a6017f93',\n",
       " '577a4d2c-2f24-014c-39ce-677e3f1988b1',\n",
       " 'ab10d3ff-8004-00ea-18f8-d01db83fec87']"
      ]
     },
     "execution_count": 12,
     "metadata": {},
     "output_type": "execute_result"
    }
   ],
   "source": [
    "#patient_id = '2bcaea44-2f67-e5f0-063a-673992768e57'\n",
    "patient_id = 'f6ba6d3b-6a9b-91bc-8f7a-db572a7fabaa'\n",
    "\n",
    "list_encounter = list(encounter_df[encounter_df['PATIENT'] == patient_id]['ENCOUNTER'])\n",
    "\n",
    "list_encounter"
   ]
  },
  {
   "cell_type": "code",
   "execution_count": 15,
   "metadata": {},
   "outputs": [
    {
     "name": "stdout",
     "output_type": "stream",
     "text": [
      "         START        STOP                               PATIENT  \\\n",
      "88  14/02/2017  20/02/2018  f6ba6d3b-6a9b-91bc-8f7a-db572a7fabaa   \n",
      "89  14/02/2017  26/02/2019  f6ba6d3b-6a9b-91bc-8f7a-db572a7fabaa   \n",
      "90  14/02/2017  20/02/2018  f6ba6d3b-6a9b-91bc-8f7a-db572a7fabaa   \n",
      "91  14/02/2017  20/02/2018  f6ba6d3b-6a9b-91bc-8f7a-db572a7fabaa   \n",
      "\n",
      "                               ENCOUNTER          CODE  \\\n",
      "88  d174e515-622b-adf3-9bb9-2afeeb6d8c18  7.343800e+07   \n",
      "89  d174e515-622b-adf3-9bb9-2afeeb6d8c18  4.226500e+08   \n",
      "90  d174e515-622b-adf3-9bb9-2afeeb6d8c18  7.359500e+07   \n",
      "91  d174e515-622b-adf3-9bb9-2afeeb6d8c18  1.090000e+16   \n",
      "\n",
      "                                      DESCRIPTION  \n",
      "88                           Unemployed (finding)  \n",
      "89                     Social isolation (finding)  \n",
      "90                               Stress (finding)  \n",
      "91  Unhealthy alcohol drinking behavior (finding)  \n",
      "{'code': 73438004.0, 'descriprion': 'Unemployed (finding)'}\n"
     ]
    }
   ],
   "source": [
    "encounter_dict = {}\n",
    "list_encounter =['d174e515-622b-adf3-9bb9-2afeeb6d8c18']\n",
    "\n",
    "for encounter_id in list_encounter:\n",
    "    # patient data\n",
    "    patient_info = patient_df[patient_df['PATIENT'] == patient_id]\n",
    "    encounter_dict['patient'] = {'id': patient_id, 'age': patient_info.iloc[0]['BIRTHDATE'], 'race': patient_info.iloc[0]['RACE'], 'gender': patient_info.iloc[0]['GENDER']}\n",
    "    \n",
    "    # encounter data\n",
    "    encounter_info = encounter_df[encounter_df['ENCOUNTER'] == encounter_id]\n",
    "    encounter_dict['encounter'] = {'start': encounter_info.iloc[0]['START'],'id': encounter_id, 'code': encounter_info.iloc[0]['CODE'], 'descriprion': encounter_info.iloc[0]['DESCRIPTION'],\n",
    "                                    'reason code': encounter_info.iloc[0]['REASONCODE'], 'reason description': encounter_info.iloc[0]['REASONDESCRIPTION'] }\n",
    "    # condition data\n",
    "    if not condition_df[condition_df['ENCOUNTER'] == encounter_id].empty :\n",
    "        condition_info = condition_df[condition_df['ENCOUNTER'] == encounter_id]\n",
    "        print(condition_info)\n",
    "        encounter_dict['condition'] = {'code': condition_info.iloc[0]['CODE'], 'descriprion': condition_info.iloc[0]['DESCRIPTION']}\n",
    "        print(encounter_dict['condition'])\n",
    "\n",
    "    # careplan data\n",
    "    if not careplan_df[careplan_df['ENCOUNTER'] == encounter_id].empty :  ## !!! need to check fr repitition\n",
    "        careplan_info = careplan_df[careplan_df['ENCOUNTER'] == encounter_id]\n",
    "        encounter_dict['careplan'] = {'code': careplan_info.iloc[0]['CODE'], 'descriprion': careplan_info.iloc[0]['DESCRIPTION'], \n",
    "        'reason code': careplan_info.iloc[0]['REASONCODE'],'reason description': careplan_info.iloc[0]['REASONDESCRIPTION']}\n",
    "  \n",
    "    # observation data\n",
    "    if not observation_df[observation_df['ENCOUNTER'] == encounter_id].empty : ## !!! need to creat a list\n",
    "        observation_info = observation_df[observation_df['ENCOUNTER'] == encounter_id]\n",
    "        encounter_dict['observation'] = {'descriprion': observation_info.iloc[0]['DESCRIPTION'], \n",
    "        'value': observation_info.iloc[0]['VALUE'],'unit': observation_info.iloc[0]['UNITS']}\n",
    "\n",
    "\n",
    "    #print(encounter_dict)"
   ]
  },
  {
   "cell_type": "code",
   "execution_count": 16,
   "metadata": {},
   "outputs": [],
   "source": [
    "from datetime import datetime\n",
    "\n",
    "# Define the two timestamps\n",
    "current_timestamp_str = \"2017-02-14T02:01:51Z\"\n",
    "birthday_str = \"13/01/1970\"\n",
    "\n",
    "current_timestamp = datetime.strptime(current_timestamp_str, \"%Y-%m-%dT%H:%M:%SZ\")\n",
    "birthday = datetime.strptime(birthday_str, \"%d/%m/%Y\")"
   ]
  },
  {
   "cell_type": "code",
   "execution_count": 20,
   "metadata": {},
   "outputs": [
    {
     "data": {
      "text/plain": [
       "17199"
      ]
     },
     "execution_count": 20,
     "metadata": {},
     "output_type": "execute_result"
    }
   ],
   "source": [
    "age_difference = current_timestamp - birthday\n",
    "age_difference.days\n"
   ]
  }
 ],
 "metadata": {
  "kernelspec": {
   "display_name": "Python 3",
   "language": "python",
   "name": "python3"
  },
  "language_info": {
   "codemirror_mode": {
    "name": "ipython",
    "version": 3
   },
   "file_extension": ".py",
   "mimetype": "text/x-python",
   "name": "python",
   "nbconvert_exporter": "python",
   "pygments_lexer": "ipython3",
   "version": "3.11.1"
  },
  "orig_nbformat": 4
 },
 "nbformat": 4,
 "nbformat_minor": 2
}
